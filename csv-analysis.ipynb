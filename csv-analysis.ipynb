{
 "cells": [
  {
   "cell_type": "markdown",
   "metadata": {},
   "source": [
    "## Setup\n",
    "\n",
    "\n",
    "[Setup Python Virtual Environment in VSCode](/venv-setup.md)\n",
    "\n",
    "\n",
    "**Security Note:** Using fixed package versions ensures stability and reproducibility, but may expose you to security vulnerabilities if not regularly updated. Balance stability and security by periodically reviewing and updating packages."
   ]
  },
  {
   "cell_type": "code",
   "execution_count": null,
   "metadata": {},
   "outputs": [],
   "source": [
    "# Install required packages in a virtual environment (Currently only tested with Python 3.13.1)\n",
    "%pip install --upgrade pip\n",
    "%pip install pandas==2.2.3\n",
    "%pip install requests==2.32.3"
   ]
  },
  {
   "cell_type": "markdown",
   "metadata": {},
   "source": [
    "## Download JLCPCB Parts CSV File "
   ]
  },
  {
   "cell_type": "code",
   "execution_count": 2,
   "metadata": {},
   "outputs": [
    {
     "name": "stdout",
     "output_type": "stream",
     "text": [
      "Deleted existing file: jlcpcb-components-basic-preferred.csv\n",
      "Downloaded https://cdfer.github.io/jlcpcb-parts-database/jlcpcb-components-basic-preferred.csv to jlcpcb-components-basic-preferred.csv\n"
     ]
    }
   ],
   "source": [
    "import requests\n",
    "import os\n",
    "\n",
    "\n",
    "def download_file(url, filename):\n",
    "    try:\n",
    "        # Check if the file already exists\n",
    "        if os.path.exists(filename):\n",
    "            # Delete the existing file\n",
    "            os.remove(filename)\n",
    "            print(f\"Deleted existing file: {filename}\")\n",
    "\n",
    "        response = requests.get(f\"{url}/{filename}\", stream=True)\n",
    "        response.raise_for_status()  # Raise an exception for bad status codes\n",
    "        with open(filename, \"wb\") as f:\n",
    "            for chunk in response.iter_content(None):\n",
    "                f.write(chunk)\n",
    "        print(f\"Downloaded {url}/{filename} to {filename}\")\n",
    "    except requests.RequestException as e:\n",
    "        print(f\"Download {url} failed: {e}\")\n",
    "\n",
    "\n",
    "\n",
    "base_url = \"https://cdfer.github.io/jlcpcb-parts-database\"\n",
    "download_file(base_url, \"jlcpcb-components-basic-preferred.csv\")"
   ]
  },
  {
   "cell_type": "markdown",
   "metadata": {},
   "source": [
    "## Lowest Cost Per Pin Basic Components\n",
    "\n",
    "Calculates the cost per joint for electronic components from a JLCPCB CSV file.\n",
    "\n",
    "Filters components with at least 8 pins, calculates the cost per joint based on price and joint type (SMT or hand-soldered), and prints the top 100 components with the lowest cost per joint.\n",
    "\n",
    "FYI JLCPCB calls a pin a joint (e.g. a solder joint)\n"
   ]
  },
  {
   "cell_type": "code",
   "execution_count": null,
   "metadata": {},
   "outputs": [
    {
     "name": "stdout",
     "output_type": "stream",
     "text": [
      "USD/Pin = 0.002 https://jlcpcb.com/partdetail/C25725 Pins: 8 4D02WGJ0103TCE (4 ±5% 10kΩ 62.5mW ±200ppm/℃ 0402x4 Resistor Networks, Arrays ROHS)\n",
      "USD/Pin = 0.002 https://jlcpcb.com/partdetail/C20197 Pins: 8 4D03WGJ0102T5E (4 ±5% 1kΩ 62.5mW ±200ppm/℃ 0603x4 Resistor Networks, Arrays ROHS)\n",
      "USD/Pin = 0.002 https://jlcpcb.com/partdetail/C1980 Pins: 8 4D03WGJ0472T5E (4 ±5% 4.7kΩ 62.5mW ±200ppm/℃ 0603x4 Resistor Networks, Arrays ROHS)\n",
      "USD/Pin = 0.002 https://jlcpcb.com/partdetail/C2991336 Pins: 8 RTA02-4D512JTH (4 ±5% 5.1kΩ 62.5mW ±200ppm/℃ 0402x4  Resistor Networks, Arrays ROHS)\n",
      "USD/Pin = 0.002 https://jlcpcb.com/partdetail/C29718 Pins: 8 4D03WGJ0103T5E (4 ±5% 10kΩ 62.5mW ±200ppm/℃ 0603x4 Resistor Networks, Arrays ROHS)\n",
      "USD/Pin = 0.002 https://jlcpcb.com/partdetail/C25510 Pins: 8 4D03WGJ0471T5E (4 ±5% 470Ω 62.5mW ±200ppm/℃ 0603x4 Resistor Networks, Arrays ROHS)\n",
      "USD/Pin = 0.004 https://jlcpcb.com/partdetail/C7420374 Pins: 10 H5VU25U (4A 14V 56W 6V Unidirectional 5V DFN2510-10L  ESD and Surge Protection (TVS/ESD) ROHS)\n",
      "USD/Pin = 0.005 https://jlcpcb.com/partdetail/C20615800 Pins: 10 H5VU25UC (5A 75W 15V 10V Unidirectional 5V DFN2510-10L  ESD and Surge Protection (TVS/ESD) ROHS)\n",
      "USD/Pin = 0.007 https://jlcpcb.com/partdetail/C5605 Pins: 14 74HC14D,653 (Schmitt Trigger 6 21ns@6V,50pF 2uA 2V~6V SOIC-14 Inverters ROHS)\n",
      "USD/Pin = 0.007 https://jlcpcb.com/partdetail/C5947 Pins: 16 74HC595D,118 (8 2V~6V 1 Serial to serial or parallel SOIC-16 Shift Registers ROHS)\n",
      "USD/Pin = 0.008 https://jlcpcb.com/partdetail/C5590 Pins: 14 74HC04D,653 (6 14ns@6V,50pF 2uA 2V~6V SOIC-14 Inverters ROHS)\n",
      "USD/Pin = 0.008 https://jlcpcb.com/partdetail/C7512 Pins: 16 ULN2003ADR (Seven channels 50V 500mA SOIC-16 Darlington Transistor Arrays ROHS)\n",
      "USD/Pin = 0.008 https://jlcpcb.com/partdetail/C5593 Pins: 14 74HC08D,653 (2V~6V 2uA 4 15ns@6V,50pF With Door SOIC-14 Logic Gates ROHS)\n",
      "USD/Pin = 0.008 https://jlcpcb.com/partdetail/C5613 Pins: 16 74HC165D,653 (8 2V~6V 1 ParallelorSerialtoSerial SOIC-16 Shift Registers ROHS)\n",
      "USD/Pin = 0.008 https://jlcpcb.com/partdetail/C71035 Pins: 14 LM324DT (Quad 20nA 0.4V/us 1.3MHz SOIC-14 Operational Amplifier ROHS)\n",
      "USD/Pin = 0.009 https://jlcpcb.com/partdetail/C21379 Pins: 16 CD4051BM96 (1 240Ω SOIC-16-150mil Analog Switches, Multiplexers ROHS)\n",
      "USD/Pin = 0.010 https://jlcpcb.com/partdetail/C7859 Pins: 24 SN74LVC4245APWR (2.7V~3.6V 1 8 4.5V~5.5V TSSOP-24 Translators, Level Shifters ROHS)\n",
      "USD/Pin = 0.011 https://jlcpcb.com/partdetail/C7562 Pins: 8 M24C02-WMN6TP (2Kbit I2C SOIC-8 EEPROM ROHS)\n",
      "USD/Pin = 0.012 https://jlcpcb.com/partdetail/C5625 Pins: 20 74HC245D,653 (SOIC-20-300mil Buffers, Drivers, Receivers, Transceivers ROHS)\n",
      "USD/Pin = 0.012 https://jlcpcb.com/partdetail/C79988 Pins: 8 M24C64-RMN6TP (64Kbit I2C SOIC-8 EEPROM ROHS)\n",
      "USD/Pin = 0.012 https://jlcpcb.com/partdetail/C7532 Pins: 48 HT1621B (60uA 3-wire serial interface 2.4V~5.2V LQFP-48(7x7) LCD Drivers ROHS)\n",
      "USD/Pin = 0.012 https://jlcpcb.com/partdetail/C6521 Pins: 16 CD4052BM96 (2 240Ω Single Pole Four Throw (SP4T) SOIC-16 Analog Switches, Multiplexers ROHS)\n",
      "USD/Pin = 0.013 https://jlcpcb.com/partdetail/C7426 Pins: 8 NE5532DR (Dual 200nA 9V/us 10MHz SOIC-8 Operational Amplifier ROHS)\n",
      "USD/Pin = 0.013 https://jlcpcb.com/partdetail/C7955 Pins: 8 LM393DR2G (5mV 250nA SOIC-8 Comparators ROHS)\n",
      "USD/Pin = 0.013 https://jlcpcb.com/partdetail/C7593 Pins: 8 NE555DR (100kHz SOIC-8 Timers / Counters ROHS)\n",
      "USD/Pin = 0.013 https://jlcpcb.com/partdetail/C7063 Pins: 8 SN75176BDR (Transceiver 1/1 SOIC-8 RS-485 / RS-422 ICs ROHS)\n",
      "USD/Pin = 0.014 https://jlcpcb.com/partdetail/C7950 Pins: 8 LM358DR2G (Dual 45nA 1MHz SOIC-8 Operational Amplifier ROHS)\n",
      "USD/Pin = 0.014 https://jlcpcb.com/partdetail/C13482 Pins: 16 SP3232EEY-L/TR (235Kbps Transceiver 2/2 TSSOP-16 RS232 ICs ROHS)\n",
      "USD/Pin = 0.015 https://jlcpcb.com/partdetail/C7433 Pins: 8 OP07CDR (600kHz 1.8nA Single Channel SOIC-8 Precision Op Amps ROHS)\n",
      "USD/Pin = 0.016 https://jlcpcb.com/partdetail/C52717 Pins: 20 STM8S003F3P6TR (8KB 1KB FLASH 16 2.95V~5.5V STM8 16MHz TSSOP-20 Microcontrollers (MCU/MPU/SOC) ROHS)\n",
      "USD/Pin = 0.016 https://jlcpcb.com/partdetail/C23922 Pins: 48 STM32F030C8T6 (64KB 2.4V~3.6V ARM-M0 8KB 48MHz FLASH 39 LQFP-48(7x7) Microcontrollers (MCU/MPU/SOC) ROHS)\n",
      "USD/Pin = 0.016 https://jlcpcb.com/partdetail/C18229 Pins: 8 LM2904DR2G (Dual 45nA 1MHz SOIC-8 Operational Amplifier ROHS)\n",
      "USD/Pin = 0.017 https://jlcpcb.com/partdetail/C6961 Pins: 8 TL072CDT (3mV 4MHz 20pA Dual channel SOIC-8 FET Input Amplifiers ROHS)\n",
      "USD/Pin = 0.018 https://jlcpcb.com/partdetail/C6855 Pins: 8 SP485EEN-L/TR (Transceiver 10Mbps 1/1 SOIC-8 RS-485 / RS-422 ICs ROHS)\n",
      "USD/Pin = 0.019 https://jlcpcb.com/partdetail/C16581 Pins: 9 TP4056-42-ESOP8 (ESOP-8 Battery Management ROHS)\n",
      "USD/Pin = 0.020 https://jlcpcb.com/partdetail/C2829996 Pins: 8 PH-00250 (3A Direct Insert Policy 2.5mm 8P 6mm -40℃~+105℃ 3mm 2.54mm Single Row 1x8P Plugin,P=2.54mm  Pin Headers ROHS)\n",
      "USD/Pin = 0.021 https://jlcpcb.com/partdetail/C8734 Pins: 48 STM32F103C8T6 (64KB 2V~3.6V ARM-M3 20KB 72MHz FLASH 37 LQFP-48(7x7) Microcontrollers (MCU/MPU/SOC) ROHS)\n",
      "USD/Pin = 0.023 https://jlcpcb.com/partdetail/C9865 Pins: 8 TPS54331DR (Step-down type Adjustable 800mV~25V 3A 3.5V~28V SOIC-8 DC-DC Converters ROHS)\n",
      "USD/Pin = 0.025 https://jlcpcb.com/partdetail/C2987356 Pins: 8 UC3842N (DIP-8  AC-DC Controllers and Regulators ROHS)\n",
      "USD/Pin = 0.026 https://jlcpcb.com/partdetail/C61063 Pins: 8 XL1509-5.0E1 (Step-down type 2A 4.5V~40V SOIC-8 DC-DC Converters ROHS)\n",
      "USD/Pin = 0.027 https://jlcpcb.com/partdetail/C8963 Pins: 8 SP3485EN-L/TR (Transceiver 10Mbps 1/1 SOIC-8 RS-485 / RS-422 ICs ROHS)\n",
      "USD/Pin = 0.029 https://jlcpcb.com/partdetail/C74192 Pins: 8 XL1509-ADJE1 (Step-down type 2A 4.5V~40V SOIC-8 DC-DC Converters ROHS)\n",
      "USD/Pin = 0.032 https://jlcpcb.com/partdetail/C110020 Pins: 8 6N137S1(TA) (Optocouplers SMD RoHS)\n",
      "USD/Pin = 0.034 https://jlcpcb.com/partdetail/C8254 Pins: 32 STM8S105K6T6C (32KB 2.95V~5.5V STM8 2KB 16MHz FLASH 25 LQFP-32(7x7) Microcontrollers (MCU/MPU/SOC) ROHS)\n",
      "USD/Pin = 0.035 https://jlcpcb.com/partdetail/C9864 Pins: 9 TPS5430DDAR (Step-down type Adjustable 1.221V~32.04V 3A 5.5V~36V SOIC-8-EP DC-DC Converters ROHS)\n",
      "USD/Pin = 0.035 https://jlcpcb.com/partdetail/C7377 Pins: 8 MCP6002T-I/SN (Dual 1pA 0.6V/us 1MHz SOIC-8 Operational Amplifier ROHS)\n",
      "USD/Pin = 0.036 https://jlcpcb.com/partdetail/C719499 Pins: 153 FEMDRM008G-58A39 (eMMC 5.1 FBGA-153  eMMC ROHS)\n",
      "USD/Pin = 0.046 https://jlcpcb.com/partdetail/C2919662 Pins: 8 KH-TYPE-C-L13.7-6P (Direct Insert 6P Type-C Plugin  USB Connectors ROHS)\n",
      "USD/Pin = 0.047 https://jlcpcb.com/partdetail/C6482 Pins: 8 AT24C256C-SSHL-T (256Kbit I2C SOIC-8 EEPROM ROHS)\n",
      "USD/Pin = 0.052 https://jlcpcb.com/partdetail/C12084 Pins: 8 SN65HVD230DR (1Mbps Transceiver SOIC-8 CAN Transceivers ROHS)\n",
      "USD/Pin = 0.056 https://jlcpcb.com/partdetail/C7440 Pins: 8 PCF8563T/5,518 (I2C SOIC-8 Real Time Clocks ROHS)\n",
      "USD/Pin = 0.061 https://jlcpcb.com/partdetail/C9861 Pins: 48 STM32L151C8T6 (64KB 1.8V~3.6V ARM-M3 10KB 32MHz FLASH 37 LQFP-48(7x7) Microcontrollers (MCU/MPU/SOC) ROHS)\n",
      "USD/Pin = 0.062 https://jlcpcb.com/partdetail/C32078 Pins: 8 MC34063ADR2G (Adjustable 1.25V~40V 3V~40V 1.5A SOIC-8 DC-DC Converters ROHS)\n",
      "USD/Pin = 0.062 https://jlcpcb.com/partdetail/C14877 Pins: 32 ATMEGA328P-AU (32KB 2KB FLASH 23 1.8V~5.5V AVR 20MHz TQFP-32(7x7) Microcontrollers (MCU/MPU/SOC) ROHS)\n",
      "USD/Pin = 0.062 https://jlcpcb.com/partdetail/C459293 Pins: 37 A4984SETTR-T (QFN-32(5x5)  Gate Drivers ROHS)\n",
      "USD/Pin = 0.065 https://jlcpcb.com/partdetail/C6568 Pins: 29 CP2102-GMR (12Mbps Transceiver USB WQFN-28-EP(5x5) USB Converters ROHS)\n",
      "USD/Pin = 0.066 https://jlcpcb.com/partdetail/C97521 Pins: 8 W25Q128JVSIQ (128Mbit SOIC-8-208mil NOR FLASH ROHS)\n",
      "USD/Pin = 0.068 https://jlcpcb.com/partdetail/C26860 Pins: 16 MAX232ESE+T (120Kbps Transceiver 2/2 SOIC-16 RS232 ICs ROHS)\n",
      "USD/Pin = 0.089 https://jlcpcb.com/partdetail/C8959 Pins: 8 DS1302Z+T&R (SPI SOIC-8 Real Time Clocks ROHS)\n",
      "USD/Pin = 0.096 https://jlcpcb.com/partdetail/C6952 Pins: 8 TJA1050T/CM,118 (Transceiver SOP-8 CAN Transceivers ROHS)\n",
      "USD/Pin = 0.107 https://jlcpcb.com/partdetail/C528626 Pins: 33 BQ40Z80RSMT (Lithium-Ion/Polymer 2~7 VQFN-32(4x4)  Battery Management ROHS)\n",
      "USD/Pin = 0.118 https://jlcpcb.com/partdetail/C7881 Pins: 8 ICL7660AIBAZA-T (SOIC-8 Charge Pumps ROHS)\n",
      "USD/Pin = 0.125 https://jlcpcb.com/partdetail/C636034 Pins: 8 MCP4131-104E/SN (±20% SPI 100kΩ 1.8V~5.5V SOIC-8-150mil  Digital Potentiometers ROHS)\n",
      "USD/Pin = 0.138 https://jlcpcb.com/partdetail/C9669 Pins: 8 ADUM1201ARZ-RL7 (SOIC-8 Digital Isolators ROHS)\n",
      "USD/Pin = 0.197 https://jlcpcb.com/partdetail/C2997462 Pins: 35 K776280WR-35-PTSNB (-  Automobile Connectors ROHS)\n",
      "USD/Pin = 0.233 https://jlcpcb.com/partdetail/C9683 Pins: 18 ULN2803ADWR (SOIC-18-300mil Darlington Transistor Arrays ROHS)\n",
      "USD/Pin = 0.273 https://jlcpcb.com/partdetail/C2976576 Pins: 14 VGdd79S433N0SA (-118dBm 433MHz 22dBm SPI SMD,11.5x11.5mm  LoRa Modules ROHS)\n",
      "USD/Pin = 0.281 https://jlcpcb.com/partdetail/C24112 Pins: 25 MPU-6050 (Accelerometer gyroscope QFN-24-EP(4x4) Accelerometers ROHS)\n",
      "USD/Pin = 0.391 https://jlcpcb.com/partdetail/C2939935 Pins: 20 HS12864B03 (3.2 KS0107 -  LCD Screen ROHS)\n"
     ]
    }
   ],
   "source": [
    "import pandas as pd\n",
    "import json\n",
    "\n",
    "# Constants\n",
    "MINIMUM_PINS = 8\n",
    "SMT_JOINT_COST = 0.0017\n",
    "HAND_SOLDER_JOINT_COST = 0.0173\n",
    "\n",
    "# Load the CSV file into a pandas DataFrame\n",
    "df = pd.read_csv(\"jlcpcb-components-basic-preferred.csv\")\n",
    "\n",
    "\n",
    "# Define a function to calculate the cost per joint\n",
    "def calculate_cost_per_joint(row):\n",
    "    price = json.loads(row[\"price\"])[0][\"price\"]\n",
    "    joint_cost = HAND_SOLDER_JOINT_COST if \"Plugin\" in row[\"package\"] else SMT_JOINT_COST\n",
    "    return (float(price) + (row[\"joints\"] * joint_cost)) / row[\"joints\"]\n",
    "\n",
    "\n",
    "# Calculate cost per joint for each component\n",
    "df[\"cost_per_joint\"] = df.apply(calculate_cost_per_joint, axis=1)\n",
    "\n",
    "# Filter parts with more than MINIMUM_PINS joints\n",
    "df_filtered = df[df[\"joints\"] >= MINIMUM_PINS]\n",
    "\n",
    "# Sort the components by cost per joint\n",
    "df_sorted = df_filtered.sort_values(by=\"cost_per_joint\")\n",
    "\n",
    "# Print the top 100 components with the lowest cost per joint\n",
    "for index, row in df_sorted.head(100).iterrows():\n",
    "    print(\n",
    "        f\"USD/Pin = {row['cost_per_joint']:.3f} \"\n",
    "        f\"https://jlcpcb.com/partdetail/C{row['lcsc']} \"\n",
    "        f\"Pins: {row['joints']} {row['mfr']} ({row['description']})\"\n",
    "    )"
   ]
  }
 ],
 "metadata": {
  "kernelspec": {
   "display_name": "Python 3",
   "language": "python",
   "name": "python3"
  },
  "language_info": {
   "codemirror_mode": {
    "name": "ipython",
    "version": 3
   },
   "file_extension": ".py",
   "mimetype": "text/x-python",
   "name": "python",
   "nbconvert_exporter": "python",
   "pygments_lexer": "ipython3",
   "version": "3.13.1"
  }
 },
 "nbformat": 4,
 "nbformat_minor": 2
}
