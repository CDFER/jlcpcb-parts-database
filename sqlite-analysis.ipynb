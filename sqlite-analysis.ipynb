{
 "cells": [
  {
   "cell_type": "markdown",
   "metadata": {
    "id": "XVhK72Pu1cJL"
   },
   "source": [
    "# SQLITE Database Analysis\n",
    "\n",
    "Requires parts database to already be downloaded and unzipped ```jlcpcb-components.sqlite3```\n",
    "\n",
    "[Setup Python Virtual Environment in VSCode](/venv-setup.md)"
   ]
  },
  {
   "cell_type": "code",
   "execution_count": null,
   "metadata": {},
   "outputs": [
    {
     "name": "stdout",
     "output_type": "stream",
     "text": [
      "Unused Pages: 0, Used Pages: 263010, Page size: 4096 Bytes\n"
     ]
    }
   ],
   "source": [
    "import sqlite3\n",
    "\n",
    "conn = sqlite3.connect(r\"jlcpcb-components.sqlite3\")\n",
    "cur = conn.cursor()\n",
    "freelist_count = cur.execute(\"PRAGMA freelist_count\").fetchone()[0]\n",
    "page_size = cur.execute(\"PRAGMA page_size\").fetchone()[0]\n",
    "page_count = cur.execute(\"PRAGMA page_count\").fetchone()[0]\n",
    "conn.close()\n",
    "\n",
    "print(f\"Unused Pages: {freelist_count}, Used Pages: {page_count}, Page size: {page_size} Bytes\")"
   ]
  }
 ],
 "metadata": {
  "accelerator": "GPU",
  "colab": {
   "name": "time_series.ipynb",
   "provenance": [],
   "toc_visible": true
  },
  "kernelspec": {
   "display_name": ".venv",
   "language": "python",
   "name": "python3"
  },
  "language_info": {
   "codemirror_mode": {
    "name": "ipython",
    "version": 3
   },
   "file_extension": ".py",
   "mimetype": "text/x-python",
   "name": "python",
   "nbconvert_exporter": "python",
   "pygments_lexer": "ipython3",
   "version": "3.12.7"
  }
 },
 "nbformat": 4,
 "nbformat_minor": 0
}
