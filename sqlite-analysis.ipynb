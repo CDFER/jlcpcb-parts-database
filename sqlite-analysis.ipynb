{
 "cells": [
  {
   "cell_type": "markdown",
   "metadata": {
    "id": "XVhK72Pu1cJL"
   },
   "source": [
    "## Setup\n",
    "\n",
    "\n",
    "[Setup Python Virtual Environment in VSCode](/venv_setup.md)\n",
    "\n",
    "\n",
    "**Security Note:** Using fixed package versions ensures stability and reproducibility, but may expose you to security vulnerabilities if not regularly updated. Balance stability and security by periodically reviewing and updating packages."
   ]
  },
  {
   "cell_type": "code",
   "execution_count": 1,
   "metadata": {
    "execution": {
     "iopub.execute_input": "2024-03-13T01:30:41.127178Z",
     "iopub.status.busy": "2024-03-13T01:30:41.126569Z",
     "iopub.status.idle": "2024-03-13T01:30:44.444253Z",
     "shell.execute_reply": "2024-03-13T01:30:44.443409Z"
    },
    "id": "7rZnJaGTWQw0"
   },
   "outputs": [
    {
     "name": "stdout",
     "output_type": "stream",
     "text": [
      "Requirement already satisfied: pip in c:\\users\\taranaki\\documents\\github\\jlcpcb-parts-database\\.venv\\lib\\site-packages (24.2)\n",
      "Note: you may need to restart the kernel to use updated packages.\n",
      "Collecting pandas==2.2.2\n",
      "  Using cached pandas-2.2.2-cp312-cp312-win_amd64.whl.metadata (19 kB)\n",
      "Collecting numpy>=1.26.0 (from pandas==2.2.2)\n",
      "  Downloading numpy-2.1.1-cp312-cp312-win_amd64.whl.metadata (59 kB)\n",
      "Requirement already satisfied: python-dateutil>=2.8.2 in c:\\users\\taranaki\\documents\\github\\jlcpcb-parts-database\\.venv\\lib\\site-packages (from pandas==2.2.2) (2.9.0.post0)\n",
      "Collecting pytz>=2020.1 (from pandas==2.2.2)\n",
      "  Using cached pytz-2024.1-py2.py3-none-any.whl.metadata (22 kB)\n",
      "Collecting tzdata>=2022.7 (from pandas==2.2.2)\n",
      "  Using cached tzdata-2024.1-py2.py3-none-any.whl.metadata (1.4 kB)\n",
      "Requirement already satisfied: six>=1.5 in c:\\users\\taranaki\\documents\\github\\jlcpcb-parts-database\\.venv\\lib\\site-packages (from python-dateutil>=2.8.2->pandas==2.2.2) (1.16.0)\n",
      "Using cached pandas-2.2.2-cp312-cp312-win_amd64.whl (11.5 MB)\n",
      "Downloading numpy-2.1.1-cp312-cp312-win_amd64.whl (12.6 MB)\n",
      "   ---------------------------------------- 0.0/12.6 MB ? eta -:--:--\n",
      "   ------------------- -------------------- 6.0/12.6 MB 30.8 MB/s eta 0:00:01\n",
      "   ----------------------------------- ---- 11.0/12.6 MB 27.6 MB/s eta 0:00:01\n",
      "   ---------------------------------------  12.3/12.6 MB 28.6 MB/s eta 0:00:01\n",
      "   ---------------------------------------- 12.6/12.6 MB 20.8 MB/s eta 0:00:00\n",
      "Using cached pytz-2024.1-py2.py3-none-any.whl (505 kB)\n",
      "Using cached tzdata-2024.1-py2.py3-none-any.whl (345 kB)\n",
      "Installing collected packages: pytz, tzdata, numpy, pandas\n",
      "Successfully installed numpy-2.1.1 pandas-2.2.2 pytz-2024.1 tzdata-2024.1\n",
      "Note: you may need to restart the kernel to use updated packages.\n",
      "Collecting matplotlib==3.9.2\n",
      "  Using cached matplotlib-3.9.2-cp312-cp312-win_amd64.whl.metadata (11 kB)\n",
      "Collecting contourpy>=1.0.1 (from matplotlib==3.9.2)\n",
      "  Downloading contourpy-1.3.0-cp312-cp312-win_amd64.whl.metadata (5.4 kB)\n",
      "Collecting cycler>=0.10 (from matplotlib==3.9.2)\n",
      "  Using cached cycler-0.12.1-py3-none-any.whl.metadata (3.8 kB)\n",
      "Collecting fonttools>=4.22.0 (from matplotlib==3.9.2)\n",
      "  Using cached fonttools-4.53.1-cp312-cp312-win_amd64.whl.metadata (165 kB)\n",
      "Collecting kiwisolver>=1.3.1 (from matplotlib==3.9.2)\n",
      "  Downloading kiwisolver-1.4.7-cp312-cp312-win_amd64.whl.metadata (6.4 kB)\n",
      "Requirement already satisfied: numpy>=1.23 in c:\\users\\taranaki\\documents\\github\\jlcpcb-parts-database\\.venv\\lib\\site-packages (from matplotlib==3.9.2) (2.1.1)\n",
      "Requirement already satisfied: packaging>=20.0 in c:\\users\\taranaki\\documents\\github\\jlcpcb-parts-database\\.venv\\lib\\site-packages (from matplotlib==3.9.2) (24.1)\n",
      "Collecting pillow>=8 (from matplotlib==3.9.2)\n",
      "  Using cached pillow-10.4.0-cp312-cp312-win_amd64.whl.metadata (9.3 kB)\n",
      "Collecting pyparsing>=2.3.1 (from matplotlib==3.9.2)\n",
      "  Downloading pyparsing-3.1.4-py3-none-any.whl.metadata (5.1 kB)\n",
      "Requirement already satisfied: python-dateutil>=2.7 in c:\\users\\taranaki\\documents\\github\\jlcpcb-parts-database\\.venv\\lib\\site-packages (from matplotlib==3.9.2) (2.9.0.post0)\n",
      "Requirement already satisfied: six>=1.5 in c:\\users\\taranaki\\documents\\github\\jlcpcb-parts-database\\.venv\\lib\\site-packages (from python-dateutil>=2.7->matplotlib==3.9.2) (1.16.0)\n",
      "Using cached matplotlib-3.9.2-cp312-cp312-win_amd64.whl (7.8 MB)\n",
      "Downloading contourpy-1.3.0-cp312-cp312-win_amd64.whl (218 kB)\n",
      "Using cached cycler-0.12.1-py3-none-any.whl (8.3 kB)\n",
      "Using cached fonttools-4.53.1-cp312-cp312-win_amd64.whl (2.2 MB)\n",
      "Downloading kiwisolver-1.4.7-cp312-cp312-win_amd64.whl (55 kB)\n",
      "Using cached pillow-10.4.0-cp312-cp312-win_amd64.whl (2.6 MB)\n",
      "Downloading pyparsing-3.1.4-py3-none-any.whl (104 kB)\n",
      "Installing collected packages: pyparsing, pillow, kiwisolver, fonttools, cycler, contourpy, matplotlib\n",
      "Successfully installed contourpy-1.3.0 cycler-0.12.1 fonttools-4.53.1 kiwisolver-1.4.7 matplotlib-3.9.2 pillow-10.4.0 pyparsing-3.1.4\n",
      "Note: you may need to restart the kernel to use updated packages.\n"
     ]
    }
   ],
   "source": [
    "# Install required packages in a virtual environment (Currently only tested with Python 3.12.4)\n",
    "%pip install --upgrade pip\n",
    "%pip install pandas==2.2.2\n",
    "%pip install matplotlib==3.9.2\n",
    "\n",
    "# Security Note: Using fixed package versions ensures stability and reproducibility, but may expose you to security vulnerabilities if not regularly updated."
   ]
  },
  {
   "cell_type": "code",
   "execution_count": 4,
   "metadata": {},
   "outputs": [
    {
     "name": "stdout",
     "output_type": "stream",
     "text": [
      "Unused Pages: 0, Used Pages: 263009, Page size: 4096 Bytes\n"
     ]
    }
   ],
   "source": [
    "import sqlite3\n",
    "\n",
    "conn = sqlite3.connect(r\"jlcpcb-components.sqlite3\")\n",
    "cur = conn.cursor()\n",
    "freelist_count = cur.execute('PRAGMA freelist_count').fetchone()[0]\n",
    "page_size = cur.execute('PRAGMA page_size').fetchone()[0]\n",
    "page_count = cur.execute('PRAGMA page_count').fetchone()[0]\n",
    "\n",
    "print(\n",
    "    f\"Unused Pages: {freelist_count}, Used Pages: {page_count}, Page size: {page_size} Bytes\"\n",
    ")"
   ]
  }
 ],
 "metadata": {
  "accelerator": "GPU",
  "colab": {
   "name": "time_series.ipynb",
   "provenance": [],
   "toc_visible": true
  },
  "kernelspec": {
   "display_name": "Python 3 (ipykernel)",
   "language": "python",
   "name": "python3"
  },
  "language_info": {
   "codemirror_mode": {
    "name": "ipython",
    "version": 3
   },
   "file_extension": ".py",
   "mimetype": "text/x-python",
   "name": "python",
   "nbconvert_exporter": "python",
   "pygments_lexer": "ipython3",
   "version": "3.12.5"
  }
 },
 "nbformat": 4,
 "nbformat_minor": 0
}
