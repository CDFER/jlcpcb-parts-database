{
 "cells": [
  {
   "cell_type": "markdown",
   "metadata": {
    "id": "XVhK72Pu1cJL"
   },
   "source": [
    "# SQLITE Database Analysis\n",
    "\n",
    "Requires parts database to already be downloaded and unzipped ```jlcpcb-components.sqlite3```\n",
    "\n",
    "[Setup Python Virtual Environment in VSCode](/venv-setup.md)"
   ]
  },
  {
   "cell_type": "code",
   "execution_count": null,
   "metadata": {},
   "outputs": [
    {
     "name": "stdout",
     "output_type": "stream",
     "text": [
      "Unused Pages: 0, Used Pages: 266,083, Page size: 4,096 Bytes\n",
      "Number of Components: 304,752\n"
     ]
    }
   ],
   "source": [
    "import sqlite3\n",
    "\n",
    "conn = sqlite3.connect(r\"jlcpcb-components.sqlite3\")\n",
    "cur = conn.cursor()\n",
    "freelist_count = cur.execute(\"PRAGMA freelist_count\").fetchone()[0]\n",
    "page_size = cur.execute(\"PRAGMA page_size\").fetchone()[0]\n",
    "page_count = cur.execute(\"PRAGMA page_count\").fetchone()[0]\n",
    "\n",
    "cur.execute(\"SELECT COUNT(*) FROM components\")\n",
    "total_rows = cur.fetchone()[0]\n",
    "\n",
    "conn.close()\n",
    "\n",
    "print(f\"Unused Pages: {freelist_count:,} Used Pages: {page_count:,} Page size: {page_size:,} Bytes\")\n",
    "print(f\"Number of Components: {total_rows:,}\")"
   ]
  },
  {
   "cell_type": "code",
   "execution_count": 1,
   "metadata": {},
   "outputs": [
    {
     "name": "stdout",
     "output_type": "stream",
     "text": [
      "Approximate Total Cost: $101,452,271 USD\n"
     ]
    }
   ],
   "source": [
    "import sqlite3\n",
    "\n",
    "\n",
    "def calculate_total_cost(conn):\n",
    "    cur = conn.cursor()\n",
    "    cur.execute(\n",
    "        \"\"\"\n",
    "        SELECT SUM(stock * (json_extract(price, '$[0].price'))) AS total_cost\n",
    "        FROM components\n",
    "    \"\"\"\n",
    "    )\n",
    "    total_cost = cur.fetchone()[0]\n",
    "    return total_cost\n",
    "\n",
    "\n",
    "conn = sqlite3.connect(r\"jlcpcb-components.sqlite3\")\n",
    "total_cost = calculate_total_cost(conn)\n",
    "print(f\"Approximate Total Cost: ${total_cost:,.0f} USD\")\n",
    "conn.close()"
   ]
  }
 ],
 "metadata": {
  "accelerator": "GPU",
  "colab": {
   "name": "time_series.ipynb",
   "provenance": [],
   "toc_visible": true
  },
  "kernelspec": {
   "display_name": ".venv",
   "language": "python",
   "name": "python3"
  },
  "language_info": {
   "codemirror_mode": {
    "name": "ipython",
    "version": 3
   },
   "file_extension": ".py",
   "mimetype": "text/x-python",
   "name": "python",
   "nbconvert_exporter": "python",
   "pygments_lexer": "ipython3",
   "version": "3.13.1"
  }
 },
 "nbformat": 4,
 "nbformat_minor": 0
}
