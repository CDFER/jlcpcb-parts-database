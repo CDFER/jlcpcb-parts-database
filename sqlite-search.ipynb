{
 "cells": [
  {
   "cell_type": "markdown",
   "metadata": {},
   "source": [
    "# JLCPCB Local Database Search\n",
    "\n",
    "Requires parts database to already be downloaded and unzipped ```jlcpcb-components.sqlite3```\n",
    "\n",
    "[Setup Python Virtual Environment in VSCode](/venv-setup.md)"
   ]
  },
  {
   "cell_type": "code",
   "execution_count": null,
   "metadata": {},
   "outputs": [],
   "source": [
    "%pip install requests"
   ]
  },
  {
   "cell_type": "code",
   "execution_count": 3,
   "metadata": {},
   "outputs": [
    {
     "name": "stdout",
     "output_type": "stream",
     "text": [
      "Deleted existing file: jlcpcb-components.sqlite3\n",
      "Downloaded https://cdfer.github.io/jlcpcb-parts-database to jlcpcb-components.sqlite3\n"
     ]
    }
   ],
   "source": [
    "import sqlite3\n",
    "import json\n",
    "import requests\n",
    "import os\n",
    "\n",
    "\n",
    "def download_file(url, filename):\n",
    "    try:\n",
    "        # Check if the file already exists\n",
    "        if os.path.exists(filename):\n",
    "            # Delete the existing file\n",
    "            os.remove(filename)\n",
    "            print(f\"Deleted existing file: {filename}\")\n",
    "\n",
    "        response = requests.get(f\"{url}/{filename}\", stream=True)\n",
    "        response.raise_for_status()  # Raise an exception for bad status codes\n",
    "        with open(filename, \"wb\") as f:\n",
    "            for chunk in response.iter_content(None):\n",
    "                f.write(chunk)\n",
    "        print(f\"Downloaded {url} to {filename}\")\n",
    "    except requests.RequestException as e:\n",
    "        print(f\"Download {url} failed: {e}\")\n",
    "\n",
    "\n",
    "# URL of the SQLite database file\n",
    "url = \"https://cdfer.github.io/jlcpcb-parts-database\"\n",
    "\n",
    "# Local file path to save the database file\n",
    "local_file = \"jlcpcb-components.sqlite3\"\n",
    "\n",
    "# Download the file\n",
    "download_file(url, local_file)"
   ]
  },
  {
   "cell_type": "code",
   "execution_count": 4,
   "metadata": {},
   "outputs": [
    {
     "data": {
      "text/plain": [
       "<sqlite3.Cursor at 0x260f20bd5c0>"
      ]
     },
     "execution_count": 4,
     "metadata": {},
     "output_type": "execute_result"
    }
   ],
   "source": [
    "conn = sqlite3.connect(r\"jlcpcb-components.sqlite3\")\n",
    "cur = conn.cursor()\n",
    "\n",
    "cur.execute(\n",
    "    \"PRAGMA temp_store = MEMORY\"\n",
    ")  # Store temporary tables and indices in memory for faster access\n",
    "cur.execute(\"PRAGMA mmap_size = 2147483648\")  # Set the maximum memory map size to 2 GiB"
   ]
  },
  {
   "cell_type": "code",
   "execution_count": 6,
   "metadata": {},
   "outputs": [
    {
     "name": "stdout",
     "output_type": "stream",
     "text": [
      "KH-TYPE-C-L13.7-6P\n",
      "Price: 0.23USD\n",
      "Stock: 49\n",
      "Package: Plugin\n",
      "Description: Direct Insert 6P Type-C Plugin  USB Connectors ROHS\n",
      "https://jlcpcb.com/partdetail/C2919662\n",
      "\n"
     ]
    }
   ],
   "source": [
    "# Search terms\n",
    "search_terms = [\"2919662\"]\n",
    "\n",
    "query = \"\"\"\n",
    "    SELECT c.price, c.stock, f.*\n",
    "    FROM components c\n",
    "    JOIN components_fts f ON c.lcsc = f.lcsc\n",
    "    WHERE f.mfr LIKE ? OR f.description LIKE ? OR f.datasheet LIKE ? OR f.lcsc LIKE ?\n",
    "\"\"\"\n",
    "\n",
    "rows = []\n",
    "for term in search_terms:\n",
    "    # Execute the query\n",
    "    cur.execute(\n",
    "        query,\n",
    "        (f\"%{term}%\",) * 4,\n",
    "    )\n",
    "\n",
    "    # Fetch the results and append to rows\n",
    "    rows.extend(cur.fetchall())\n",
    "\n",
    "# Sort the rows based on the price\n",
    "rows.sort(\n",
    "    key=lambda row: json.loads(row[0])[0][\"price\"],\n",
    "    reverse=True,\n",
    ")\n",
    "\n",
    "# Print the results\n",
    "for i, row in enumerate(rows):\n",
    "    price_data = json.loads(row[0])\n",
    "    print(f\"{row[3]}\")\n",
    "    print(f\"Price: {round(price_data[0]['price'], 2)}USD\")\n",
    "    print(f\"Stock: {row[1]}\")\n",
    "    print(f\"Package: {row[4]}\")\n",
    "    print(f\"Description: {row[5]}\")\n",
    "    print(f\"https://jlcpcb.com/partdetail/C{row[2]}\")\n",
    "    print()"
   ]
  },
  {
   "cell_type": "code",
   "execution_count": 17,
   "metadata": {},
   "outputs": [],
   "source": [
    "# Close the database connection\n",
    "conn.close()"
   ]
  }
 ],
 "metadata": {
  "kernelspec": {
   "display_name": ".venv",
   "language": "python",
   "name": "python3"
  },
  "language_info": {
   "codemirror_mode": {
    "name": "ipython",
    "version": 3
   },
   "file_extension": ".py",
   "mimetype": "text/x-python",
   "name": "python",
   "nbconvert_exporter": "python",
   "pygments_lexer": "ipython3",
   "version": "3.12.5"
  }
 },
 "nbformat": 4,
 "nbformat_minor": 2
}
