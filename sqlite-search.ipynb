{
 "cells": [
  {
   "cell_type": "markdown",
   "metadata": {},
   "source": [
    "# JLCPCB Local Database Search\n",
    "\n",
    "Requires parts database to already be downloaded and unzipped ```jlcpcb-components.sqlite3```\n",
    "\n",
    "[Setup Python Virtual Environment in VSCode](/venv_setup.md)"
   ]
  },
  {
   "cell_type": "code",
   "execution_count": 16,
   "metadata": {},
   "outputs": [
    {
     "data": {
      "text/plain": [
       "<sqlite3.Cursor at 0x1cf67ac13c0>"
      ]
     },
     "execution_count": 16,
     "metadata": {},
     "output_type": "execute_result"
    }
   ],
   "source": [
    "import sqlite3\n",
    "import json\n",
    "\n",
    "conn = sqlite3.connect(r\"jlcpcb-components.sqlite3\")\n",
    "cur = conn.cursor()\n",
    "\n",
    "cur.execute(\"PRAGMA temp_store = MEMORY\")  # Store temporary tables and indices in memory for faster access\n",
    "cur.execute(\"PRAGMA mmap_size = 2147483648\")  # Set the maximum memory map size to 2 GiB"
   ]
  },
  {
   "cell_type": "code",
   "execution_count": 18,
   "metadata": {},
   "outputs": [
    {
     "name": "stdout",
     "output_type": "stream",
     "text": [
      "SIM7070G\n",
      "Price: 13.32USD\n",
      "Stock: 50\n",
      "Package: LCC-68(24x24)\n",
      "Description: LCC-68(24x24)  RF Modules ROHS\n",
      "https://jlcpcb.com/partdetail/C2892847\n",
      "\n",
      "SIM7080G\n",
      "Price: 11.55USD\n",
      "Stock: 352\n",
      "Package: SMD,15.7x17.6mm\n",
      "Description: SMD,15.7x17.6mm  2G/3G/4G/5G Modules ROHS\n",
      "https://jlcpcb.com/partdetail/C2943992\n",
      "\n",
      "BG95M3LA-64-SGNS\n",
      "Price: 11.03USD\n",
      "Stock: 298\n",
      "Package: SMD,19.9x23.6mm\n",
      "Description: 射频模块, USB 2.0接口\n",
      "https://jlcpcb.com/partdetail/C2960993\n",
      "\n",
      "SIM7080G-M\n",
      "Price: 9.27USD\n",
      "Stock: 154\n",
      "Package: SMD,15.7x17.6mm\n",
      "Description: SMD,15.7x17.6mm  2G/3G/4G/5G Modules ROHS\n",
      "https://jlcpcb.com/partdetail/C18548266\n",
      "\n",
      "BG95M1LA-64-SGNS\n",
      "Price: 8.65USD\n",
      "Stock: 13\n",
      "Package: -\n",
      "Description: Transceiver Module Surface Mount\n",
      "https://jlcpcb.com/partdetail/C5366871\n",
      "\n",
      "EL7104CSZ-T7\n",
      "Price: 6.39USD\n",
      "Stock: 37\n",
      "Package: SOIC-8\n",
      "Description: Low Edge 1 MOSFET 4A 7.5ns 10ns 4.5V~16V 4A SOIC-8  Gate Drivers ROHS\n",
      "https://jlcpcb.com/partdetail/C2676930\n",
      "\n",
      "ICL7107CM44Z\n",
      "Price: 5.32USD\n",
      "Stock: 5\n",
      "Package: MQFP-44(10x10)\n",
      "Description: MQFP-44(10x10)  ADCs/DACs - Special Purpose ROHS\n",
      "https://jlcpcb.com/partdetail/C1520768\n",
      "\n",
      "ICL7107CM44\n",
      "Price: 2.73USD\n",
      "Stock: 180\n",
      "Package: QFP-44(10x10)\n",
      "Description: QFP-44(10x10)  Digital Tube Drivers ROHS\n",
      "https://jlcpcb.com/partdetail/C2857176\n",
      "\n"
     ]
    }
   ],
   "source": [
    "# Search terms\n",
    "search_terms = [\n",
    "    \"SARA-R520M10\",\n",
    "    \"SARA-R520\",\n",
    "    \"BG950A-GL\",\n",
    "    \"GM02SP\",\n",
    "    \"L710\",\n",
    "    \"HL7810\",\n",
    "    \"HL7812\",\n",
    "    \"L710HG\",\n",
    "    \"SKY66431\",\n",
    "    \"SARA-R510\",\n",
    "    \"SARA-R422\",\n",
    "    \"SIM7070G\",\n",
    "    \"BG770A-GL\",\n",
    "    \"SIM7080G\",\n",
    "    \"RYZ024A\",\n",
    "    \"ME310G1-W3\",\n",
    "    \"ME910G1-W3\",\n",
    "    \"TX62-W\",\n",
    "    \"TPM540\",\n",
    "    \"MA510-GL\",\n",
    "    \"TX82-W\",\n",
    "    \"EXS62-W\",\n",
    "    \"RYZ014A\",\n",
    "    \"EXS82-W\",\n",
    "    \"BG95\",\n",
    "    \"BG77\",\n",
    "    \"ME910C1-P1\",\n",
    "    \"GM01Q\",\n",
    "    \"HL7800-M\",\n",
    "    \"WP7702\",\n",
    "    \"SARA-R410M\",\n",
    "    \"ME910C1-WW\",\n",
    "    \"ML865C1-NA\",\n",
    "    \"ME910C1-NA\",\n",
    "    \"nRF9160\",\n",
    "]\n",
    "\n",
    "query = \"\"\"\n",
    "    SELECT c.price, c.stock, f.*\n",
    "    FROM components c\n",
    "    JOIN components_fts f ON c.lcsc = f.lcsc\n",
    "    WHERE f.mfr LIKE ? OR f.description LIKE ? OR f.datasheet LIKE ? OR f.lcsc LIKE ?\n",
    "\"\"\"\n",
    "\n",
    "rows = []\n",
    "for term in search_terms:\n",
    "    # Execute the query\n",
    "    cur.execute(\n",
    "        query,\n",
    "        (f\"%{term}%\",) * 4,\n",
    "    )\n",
    "\n",
    "    # Fetch the results and append to rows\n",
    "    rows.extend(cur.fetchall())\n",
    "\n",
    "# Sort the rows based on the price\n",
    "rows.sort(\n",
    "    key=lambda row: json.loads(row[0])[0][\"price\"],\n",
    "    reverse=True,\n",
    ")\n",
    "\n",
    "# Print the results\n",
    "for i, row in enumerate(rows):\n",
    "    price_data = json.loads(row[0])\n",
    "    print(f\"{row[3]}\")\n",
    "    print(f\"Price: {round(price_data[0]['price'], 2)}USD\")\n",
    "    print(f\"Stock: {row[1]}\")\n",
    "    print(f\"Package: {row[4]}\")\n",
    "    print(f\"Description: {row[5]}\")\n",
    "    print(f\"https://jlcpcb.com/partdetail/C{row[2]}\")\n",
    "    print()"
   ]
  },
  {
   "cell_type": "code",
   "execution_count": 19,
   "metadata": {},
   "outputs": [],
   "source": [
    "# Close the database connection\n",
    "conn.close()"
   ]
  }
 ],
 "metadata": {
  "kernelspec": {
   "display_name": ".venv",
   "language": "python",
   "name": "python3"
  },
  "language_info": {
   "codemirror_mode": {
    "name": "ipython",
    "version": 3
   },
   "file_extension": ".py",
   "mimetype": "text/x-python",
   "name": "python",
   "nbconvert_exporter": "python",
   "pygments_lexer": "ipython3",
   "version": "3.12.5"
  }
 },
 "nbformat": 4,
 "nbformat_minor": 2
}
